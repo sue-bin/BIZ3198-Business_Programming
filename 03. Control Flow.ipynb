{
 "cells": [
  {
   "cell_type": "code",
   "execution_count": 1,
   "metadata": {},
   "outputs": [
    {
     "name": "stdin",
     "output_type": "stream",
     "text": [
      "Rock, Paper, Scissors!  2\n"
     ]
    },
    {
     "name": "stdout",
     "output_type": "stream",
     "text": [
      "Computer's Choice: 3\n",
      "Computer Won!\n"
     ]
    },
    {
     "name": "stdin",
     "output_type": "stream",
     "text": [
      "Rock, Paper, Scissors!  1\n"
     ]
    },
    {
     "name": "stdout",
     "output_type": "stream",
     "text": [
      "Computer's Choice: 3\n",
      "You Won!\n"
     ]
    },
    {
     "name": "stdin",
     "output_type": "stream",
     "text": [
      "Rock, Paper, Scissors!  2\n"
     ]
    },
    {
     "name": "stdout",
     "output_type": "stream",
     "text": [
      "Computer's Choice: 1\n",
      "You Won!\n",
      "You Finally Won!\n"
     ]
    }
   ],
   "source": [
    "import random\n",
    "you_win = 0\n",
    "com_win = 0\n",
    "while(True):\n",
    "    if com_win < 2 and you_win <2:\n",
    "        com_choice = random.randint(1,3)\n",
    "        you_choice = int(input(\"Rock, Paper, Scissors! \"))\n",
    "        print(\"Computer's Choice:\" , com_choice)\n",
    "        if you_choice +1 == com_choice or you_choice -2 == com_choice :\n",
    "            com_win = com_win + 1\n",
    "            print(\"Computer Won!\")\n",
    "        elif com_choice +1 == you_choice or com_choice -2 == you_choice :\n",
    "            you_win = you_win + 1 \n",
    "            print(\"You Won!\")\n",
    "        else:\n",
    "            continue\n",
    "    else:\n",
    "        if com_win == 2:\n",
    "            print(\"Computer Finally Won!\")\n",
    "            break\n",
    "        else:\n",
    "            print(\"You Finally Won!\")\n",
    "            break"
   ]
  },
  {
   "cell_type": "code",
   "execution_count": null,
   "metadata": {},
   "outputs": [],
   "source": []
  },
  {
   "cell_type": "code",
   "execution_count": null,
   "metadata": {},
   "outputs": [],
   "source": []
  },
  {
   "cell_type": "code",
   "execution_count": null,
   "metadata": {},
   "outputs": [],
   "source": []
  },
  {
   "cell_type": "code",
   "execution_count": null,
   "metadata": {},
   "outputs": [],
   "source": []
  },
  {
   "cell_type": "code",
   "execution_count": null,
   "metadata": {},
   "outputs": [],
   "source": []
  },
  {
   "cell_type": "code",
   "execution_count": null,
   "metadata": {},
   "outputs": [],
   "source": []
  },
  {
   "cell_type": "code",
   "execution_count": null,
   "metadata": {},
   "outputs": [],
   "source": []
  },
  {
   "cell_type": "code",
   "execution_count": null,
   "metadata": {},
   "outputs": [],
   "source": []
  }
 ],
 "metadata": {
  "kernelspec": {
   "display_name": "Python 3",
   "language": "python",
   "name": "python3"
  },
  "language_info": {
   "codemirror_mode": {
    "name": "ipython",
    "version": 3
   },
   "file_extension": ".py",
   "mimetype": "text/x-python",
   "name": "python",
   "nbconvert_exporter": "python",
   "pygments_lexer": "ipython3",
   "version": "3.7.6"
  }
 },
 "nbformat": 4,
 "nbformat_minor": 4
}
