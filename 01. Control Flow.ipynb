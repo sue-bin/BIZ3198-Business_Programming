{
 "cells": [
  {
   "cell_type": "code",
   "execution_count": null,
   "metadata": {},
   "outputs": [],
   "source": [
    "value = input(\"Input Year you want to calculate: \")\n",
    "int_value= int(value)\n",
    "if int_value % 4 == 0:\n",
    "    if int_value % 100 == 0:\n",
    "        if int_value % 400 == 0:\n",
    "            print(\"Leap year!\")\n",
    "        else:\n",
    "            print(\"Not a leap year!\")\n",
    "    else:\n",
    "        print(\"Leap year!\")\n",
    "else:\n",
    "    print(\"Not a leap year!\")"
   ]
  },
  {
   "cell_type": "code",
   "execution_count": null,
   "metadata": {},
   "outputs": [],
   "source": []
  }
 ],
 "metadata": {
  "kernelspec": {
   "display_name": "Python 3",
   "language": "python",
   "name": "python3"
  },
  "language_info": {
   "codemirror_mode": {
    "name": "ipython",
    "version": 3
   },
   "file_extension": ".py",
   "mimetype": "text/x-python",
   "name": "python",
   "nbconvert_exporter": "python",
   "pygments_lexer": "ipython3",
   "version": "3.7.6"
  }
 },
 "nbformat": 4,
 "nbformat_minor": 4
}
